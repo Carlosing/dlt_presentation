{
 "cells": [
  {
   "cell_type": "code",
   "execution_count": 18,
   "metadata": {},
   "outputs": [],
   "source": [
    "import dlt \n",
    "\n",
    "from dlt.sources.helpers.rest_client import RESTClient\n",
    "\n",
    "import duckdb"
   ]
  },
  {
   "cell_type": "code",
   "execution_count": 19,
   "metadata": {},
   "outputs": [],
   "source": [
    "secret = dlt.secrets.get(\"access_token\")\n",
    "\n",
    "client = RESTClient(\n",
    "    base_url=\"https://api.github.com\",\n",
    "    headers={\"Authorization\": f\"Bearer {secret}\",\n",
    "        \"Accept\": \"application/json\",\n",
    "    },\n",
    ")\n"
   ]
  },
  {
   "cell_type": "code",
   "execution_count": 20,
   "metadata": {},
   "outputs": [],
   "source": [
    "def get_github_issues():\n",
    "\n",
    "    for page in client.paginate(\n",
    "        \"/repos/dlt-hub/dlt/issues\", params={\"state\": \"all\", \"per_page\": 100}\n",
    "    ):\n",
    "        for record in page:\n",
    "            \n",
    "            yield record"
   ]
  },
  {
   "cell_type": "code",
   "execution_count": 21,
   "metadata": {},
   "outputs": [
    {
     "name": "stdout",
     "output_type": "stream",
     "text": [
      "dict_keys(['url', 'repository_url', 'labels_url', 'comments_url', 'events_url', 'html_url', 'id', 'node_id', 'number', 'title', 'user', 'labels', 'state', 'locked', 'assignee', 'assignees', 'milestone', 'comments', 'created_at', 'updated_at', 'closed_at', 'author_association', 'type', 'sub_issues_summary', 'active_lock_reason', 'body', 'closed_by', 'reactions', 'timeline_url', 'performed_via_github_app', 'state_reason'])\n"
     ]
    }
   ],
   "source": [
    "originals=[x for x in get_github_issues()]\n",
    "\n",
    "print(originals[0].keys())"
   ]
  },
  {
   "cell_type": "code",
   "execution_count": 23,
   "metadata": {},
   "outputs": [
    {
     "name": "stdout",
     "output_type": "stream",
     "text": [
      "Load info: Pipeline github_issues load step completed in 6.26 seconds\n",
      "1 load package(s) were loaded to destination duckdb and into dataset github_data\n",
      "The duckdb destination used duckdb:////workspaces/dlt_presentation/dlt_presentation/github_issues.duckdb location to store data\n",
      "Load package 1744236531.1541185 is LOADED and contains no failed jobs\n"
     ]
    }
   ],
   "source": [
    "github_issues_resource = dlt.resource(\n",
    "    get_github_issues(), name=\"issues\", write_disposition=\"merge\", primary_key=\"id\"\n",
    ")\n",
    "\n",
    "pipeline = dlt.pipeline(\n",
    "    pipeline_name=\"github_issues\", destination=dlt.destinations.duckdb(\"duckdb:////workspaces/dlt_presentation/dlt_presentation/github_issues.duckdb\"), dataset_name=\"github_data\"\n",
    ")\n",
    "\n",
    "load_info = pipeline.run(github_issues_resource, table_name=\"get_github_issues\")\n",
    "\n",
    "print(f\"Load info: {load_info}\")"
   ]
  },
  {
   "cell_type": "code",
   "execution_count": 24,
   "metadata": {},
   "outputs": [
    {
     "name": "stdout",
     "output_type": "stream",
     "text": [
      "('url',)\n",
      "('repository_url',)\n",
      "('labels_url',)\n"
     ]
    }
   ],
   "source": [
    "conn = duckdb.connect(\"./github_issues.duckdb\")\n",
    "\n",
    "query = \"\"\"\n",
    "SELECT columns    \n",
    "FROM github_data.get_github_issues LIMIT 10\n",
    "\"\"\"\n",
    "\n",
    "query2=\"SELECT column_name  FROM information_schema.columns WHERE table_name = 'get_github_issues' LIMIT 3\"\n",
    "\n",
    "result = conn.execute(query2).fetchall()\n",
    "\n",
    "for row in result:\n",
    "    print(row)"
   ]
  },
  {
   "cell_type": "code",
   "execution_count": 25,
   "metadata": {},
   "outputs": [],
   "source": [
    "\n",
    "def get_modified_issues():\n",
    "\n",
    "  for issue in get_github_issues():\n",
    "\n",
    "    issue[\"New\"] = \"True\"\n",
    "\n",
    "    yield issue\n",
    "\n",
    "\n"
   ]
  },
  {
   "cell_type": "code",
   "execution_count": 26,
   "metadata": {},
   "outputs": [
    {
     "name": "stdout",
     "output_type": "stream",
     "text": [
      "dict_keys(['url', 'repository_url', 'labels_url', 'comments_url', 'events_url', 'html_url', 'id', 'node_id', 'number', 'title', 'user', 'labels', 'state', 'locked', 'assignee', 'assignees', 'milestone', 'comments', 'created_at', 'updated_at', 'closed_at', 'author_association', 'type', 'sub_issues_summary', 'active_lock_reason', 'body', 'closed_by', 'reactions', 'timeline_url', 'performed_via_github_app', 'state_reason', 'New'])\n"
     ]
    }
   ],
   "source": [
    "originals=[x for x in get_modified_issues()]\n",
    "\n",
    "print(originals[0].keys())"
   ]
  },
  {
   "cell_type": "code",
   "execution_count": 27,
   "metadata": {},
   "outputs": [
    {
     "name": "stdout",
     "output_type": "stream",
     "text": [
      "Load info: Pipeline github_issues load step completed in 6.17 seconds\n",
      "1 load package(s) were loaded to destination duckdb and into dataset github_data\n",
      "The duckdb destination used duckdb:////workspaces/dlt_presentation/dlt_presentation/github_issues.duckdb location to store data\n",
      "Load package 1744236659.8337326 is LOADED and contains no failed jobs\n"
     ]
    }
   ],
   "source": [
    "load_info = pipeline.run(\n",
    "    get_modified_issues(),\n",
    "    table_name=\"get_github_issues\",\n",
    "    write_disposition=\"merge\",\n",
    "    primary_key=\"id\"\n",
    ")\n",
    "\n",
    "print(f\"Load info: {load_info}\")\n"
   ]
  },
  {
   "cell_type": "code",
   "execution_count": 28,
   "metadata": {},
   "outputs": [
    {
     "name": "stdout",
     "output_type": "stream",
     "text": [
      "(9900,)\n"
     ]
    }
   ],
   "source": [
    "conn = duckdb.connect(\"./github_issues.duckdb\")\n",
    "\n",
    "query = \"\"\"\n",
    "SELECT count(*)    \n",
    "FROM github_data.get_github_issues where New is null\n",
    "\"\"\"\n",
    "\n",
    "query2=\"SELECT column_name  FROM information_schema.columns WHERE table_name = 'get_github_issues'\"\n",
    "\n",
    "result = conn.execute(query).fetchall()\n",
    "\n",
    "for i in result:\n",
    "\n",
    "  print(i)\n",
    "\n",
    "\n",
    "\n"
   ]
  }
 ],
 "metadata": {
  "kernelspec": {
   "display_name": "Python 3 (ipykernel)",
   "language": "python",
   "name": "python3"
  },
  "language_info": {
   "codemirror_mode": {
    "name": "ipython",
    "version": 3
   },
   "file_extension": ".py",
   "mimetype": "text/x-python",
   "name": "python",
   "nbconvert_exporter": "python",
   "pygments_lexer": "ipython3",
   "version": "3.12.1"
  }
 },
 "nbformat": 4,
 "nbformat_minor": 2
}
